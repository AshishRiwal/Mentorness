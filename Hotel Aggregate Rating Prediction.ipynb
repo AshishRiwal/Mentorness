{
 "cells": [
  {
   "cell_type": "markdown",
   "id": "50a91da2",
   "metadata": {},
   "source": [
    "# Step 1: Import Libraries"
   ]
  },
  {
   "cell_type": "code",
   "execution_count": 1,
   "id": "6c7318f5",
   "metadata": {},
   "outputs": [],
   "source": [
    "import pandas as pd\n",
    "import numpy as np\n",
    "import matplotlib.pyplot as plt\n",
    "import seaborn as sns\n",
    "import warnings\n",
    "warnings.filterwarnings('ignore')"
   ]
  },
  {
   "cell_type": "markdown",
   "id": "174b0600",
   "metadata": {},
   "source": [
    "# Step 2: Load the Dataset"
   ]
  },
  {
   "cell_type": "code",
   "execution_count": 2,
   "id": "abf1bbf1",
   "metadata": {
    "scrolled": true
   },
   "outputs": [
    {
     "name": "stdout",
     "output_type": "stream",
     "text": [
      "   Restaurant ID         Restaurant Name  Country Code              City  \\\n",
      "0        6317637        Le Petit Souffle           162       Makati City   \n",
      "1        6304287        Izakaya Kikufuji           162       Makati City   \n",
      "2        6300002  Heat - Edsa Shangri-La           162  Mandaluyong City   \n",
      "3        6318506                    Ooma           162  Mandaluyong City   \n",
      "4        6314302             Sambo Kojin           162  Mandaluyong City   \n",
      "\n",
      "                                             Address  \\\n",
      "0  Third Floor, Century City Mall, Kalayaan Avenu...   \n",
      "1  Little Tokyo, 2277 Chino Roces Avenue, Legaspi...   \n",
      "2  Edsa Shangri-La, 1 Garden Way, Ortigas, Mandal...   \n",
      "3  Third Floor, Mega Fashion Hall, SM Megamall, O...   \n",
      "4  Third Floor, Mega Atrium, SM Megamall, Ortigas...   \n",
      "\n",
      "                                     Locality  \\\n",
      "0   Century City Mall, Poblacion, Makati City   \n",
      "1  Little Tokyo, Legaspi Village, Makati City   \n",
      "2  Edsa Shangri-La, Ortigas, Mandaluyong City   \n",
      "3      SM Megamall, Ortigas, Mandaluyong City   \n",
      "4      SM Megamall, Ortigas, Mandaluyong City   \n",
      "\n",
      "                                    Locality Verbose   Longitude   Latitude  \\\n",
      "0  Century City Mall, Poblacion, Makati City, Mak...  121.027535  14.565443   \n",
      "1  Little Tokyo, Legaspi Village, Makati City, Ma...  121.014101  14.553708   \n",
      "2  Edsa Shangri-La, Ortigas, Mandaluyong City, Ma...  121.056831  14.581404   \n",
      "3  SM Megamall, Ortigas, Mandaluyong City, Mandal...  121.056475  14.585318   \n",
      "4  SM Megamall, Ortigas, Mandaluyong City, Mandal...  121.057508  14.584450   \n",
      "\n",
      "                           Cuisines  ...          Currency Has Table booking  \\\n",
      "0        French, Japanese, Desserts  ...  Botswana Pula(P)               Yes   \n",
      "1                          Japanese  ...  Botswana Pula(P)               Yes   \n",
      "2  Seafood, Asian, Filipino, Indian  ...  Botswana Pula(P)               Yes   \n",
      "3                   Japanese, Sushi  ...  Botswana Pula(P)                No   \n",
      "4                  Japanese, Korean  ...  Botswana Pula(P)               Yes   \n",
      "\n",
      "  Has Online delivery Is delivering now Switch to order menu Price range  \\\n",
      "0                  No                No                   No           3   \n",
      "1                  No                No                   No           3   \n",
      "2                  No                No                   No           4   \n",
      "3                  No                No                   No           4   \n",
      "4                  No                No                   No           4   \n",
      "\n",
      "   Aggregate rating  Rating color Rating text Votes  \n",
      "0               4.8    Dark Green   Excellent   314  \n",
      "1               4.5    Dark Green   Excellent   591  \n",
      "2               4.4         Green   Very Good   270  \n",
      "3               4.9    Dark Green   Excellent   365  \n",
      "4               4.8    Dark Green   Excellent   229  \n",
      "\n",
      "[5 rows x 21 columns]\n"
     ]
    }
   ],
   "source": [
    "path = r\"C:\\Users\\Ashish Riwal\\Downloads\\Internship Mentorness\\Task 3 Restaurant Rating Prediction\\Dataset.csv\"\n",
    "df = pd.read_csv(path)\n",
    "print((df.head()))"
   ]
  },
  {
   "cell_type": "markdown",
   "id": "cd278563",
   "metadata": {},
   "source": [
    "# Step 3: Data Preprocessing"
   ]
  },
  {
   "cell_type": "markdown",
   "id": "447dc2b3",
   "metadata": {},
   "source": [
    "# 3.1 Handling missing Values"
   ]
  },
  {
   "cell_type": "code",
   "execution_count": 17,
   "id": "382b8e91",
   "metadata": {},
   "outputs": [
    {
     "name": "stdout",
     "output_type": "stream",
     "text": [
      "Restaurant ID           0\n",
      "Longitude               0\n",
      "Latitude                0\n",
      "Cuisines                0\n",
      "Average Cost for two    0\n",
      "                       ..\n",
      "Price range_1           0\n",
      "Price range_2           0\n",
      "Price range_3           0\n",
      "Price range_4           0\n",
      "Cost_vs_Rating          0\n",
      "Length: 173, dtype: int64\n",
      "Restaurant ID           0\n",
      "Longitude               0\n",
      "Latitude                0\n",
      "Cuisines                0\n",
      "Average Cost for two    0\n",
      "                       ..\n",
      "Price range_1           0\n",
      "Price range_2           0\n",
      "Price range_3           0\n",
      "Price range_4           0\n",
      "Cost_vs_Rating          0\n",
      "Length: 173, dtype: int64\n"
     ]
    }
   ],
   "source": [
    "# Checking missing Values\n",
    "print(df.isnull().sum())\n",
    "\n",
    "# drop rows with missing target values(Aggregate Rating)\n",
    "df.dropna(subset = ['Aggregate rating'], inplace = True)\n",
    "\n",
    "# Fill other missing values with a placeholder (e.g., 'Unknown' for categorical, median for numerical)\n",
    "df['Cuisines'].fillna('Unknown', inplace = True)\n",
    "df.fillna(df.mode(), inplace = True)\n",
    "\n",
    "print(df.isnull().sum())  # Verifying no missing values remain"
   ]
  },
  {
   "cell_type": "markdown",
   "id": "4e40848d",
   "metadata": {},
   "source": [
    "# 3.2 Convert Categorical Variable"
   ]
  },
  {
   "cell_type": "code",
   "execution_count": 4,
   "id": "d008d17c",
   "metadata": {
    "scrolled": true
   },
   "outputs": [
    {
     "name": "stdout",
     "output_type": "stream",
     "text": [
      "[ 0  1  2  3  4  5  6  7  8  9 10 11]\n",
      "   Restaurant ID         Restaurant Name  \\\n",
      "0        6317637        Le Petit Souffle   \n",
      "1        6304287        Izakaya Kikufuji   \n",
      "2        6300002  Heat - Edsa Shangri-La   \n",
      "3        6318506                    Ooma   \n",
      "4        6314302             Sambo Kojin   \n",
      "\n",
      "                                             Address  \\\n",
      "0  Third Floor, Century City Mall, Kalayaan Avenu...   \n",
      "1  Little Tokyo, 2277 Chino Roces Avenue, Legaspi...   \n",
      "2  Edsa Shangri-La, 1 Garden Way, Ortigas, Mandal...   \n",
      "3  Third Floor, Mega Fashion Hall, SM Megamall, O...   \n",
      "4  Third Floor, Mega Atrium, SM Megamall, Ortigas...   \n",
      "\n",
      "                                     Locality  \\\n",
      "0   Century City Mall, Poblacion, Makati City   \n",
      "1  Little Tokyo, Legaspi Village, Makati City   \n",
      "2  Edsa Shangri-La, Ortigas, Mandaluyong City   \n",
      "3      SM Megamall, Ortigas, Mandaluyong City   \n",
      "4      SM Megamall, Ortigas, Mandaluyong City   \n",
      "\n",
      "                                    Locality Verbose   Longitude   Latitude  \\\n",
      "0  Century City Mall, Poblacion, Makati City, Mak...  121.027535  14.565443   \n",
      "1  Little Tokyo, Legaspi Village, Makati City, Ma...  121.014101  14.553708   \n",
      "2  Edsa Shangri-La, Ortigas, Mandaluyong City, Ma...  121.056831  14.581404   \n",
      "3  SM Megamall, Ortigas, Mandaluyong City, Mandal...  121.056475  14.585318   \n",
      "4  SM Megamall, Ortigas, Mandaluyong City, Mandal...  121.057508  14.584450   \n",
      "\n",
      "                           Cuisines  Average Cost for two  Currency  ...  \\\n",
      "0        French, Japanese, Desserts                  1100         0  ...   \n",
      "1                          Japanese                  1200         0  ...   \n",
      "2  Seafood, Asian, Filipino, Indian                  4000         0  ...   \n",
      "3                   Japanese, Sushi                  1500         0  ...   \n",
      "4                  Japanese, Korean                  1500         0  ...   \n",
      "\n",
      "   Country Code_189  Country Code_191  Country Code_208  Country Code_214  \\\n",
      "0             False             False             False             False   \n",
      "1             False             False             False             False   \n",
      "2             False             False             False             False   \n",
      "3             False             False             False             False   \n",
      "4             False             False             False             False   \n",
      "\n",
      "   Country Code_215 Country Code_216 Price range_1  Price range_2  \\\n",
      "0             False            False         False          False   \n",
      "1             False            False         False          False   \n",
      "2             False            False         False          False   \n",
      "3             False            False         False          False   \n",
      "4             False            False         False          False   \n",
      "\n",
      "   Price range_3  Price range_4  \n",
      "0           True          False  \n",
      "1           True          False  \n",
      "2          False           True  \n",
      "3          False           True  \n",
      "4          False           True  \n",
      "\n",
      "[5 rows x 178 columns]\n"
     ]
    }
   ],
   "source": [
    "# Encode categorical variables using LabelEncoder\n",
    "\n",
    "from sklearn.preprocessing import LabelEncoder\n",
    "le = LabelEncoder()\n",
    "df['Has Table booking'] = le.fit_transform(df['Has Table booking'])\n",
    "df['Has Online delivery'] = le.fit_transform(df['Has Online delivery'])\n",
    "df['Is delivering now'] = le.fit_transform(df['Is delivering now'])\n",
    "df['Switch to order menu'] = le.fit_transform(df['Switch to order menu'])\n",
    "# Label encode the Currency column\n",
    "df['Currency'] = le.fit_transform(df['Currency'])\n",
    "\n",
    "# Check the unique values after encoding\n",
    "print(df['Currency'].unique())\n",
    "\n",
    "# One-hot encode 'Country Code' and 'Price Range'\n",
    "df = pd.get_dummies(df, columns=['City','Country Code', 'Price range'])\n",
    "\n",
    "print(df.head())  # Check the dataframe after encoding\n"
   ]
  },
  {
   "cell_type": "code",
   "execution_count": 5,
   "id": "290efaeb",
   "metadata": {
    "scrolled": true
   },
   "outputs": [
    {
     "name": "stdout",
     "output_type": "stream",
     "text": [
      "Columns with string data types: Index(['Restaurant Name', 'Address', 'Locality', 'Locality Verbose',\n",
      "       'Cuisines', 'Rating color', 'Rating text'],\n",
      "      dtype='object')\n"
     ]
    }
   ],
   "source": [
    "# Identify columns with object data type (string)\n",
    "string_columns = df.select_dtypes(include=['object']).columns\n",
    "print(\"Columns with string data types:\", string_columns)"
   ]
  },
  {
   "cell_type": "code",
   "execution_count": 6,
   "id": "4cd8ef72",
   "metadata": {},
   "outputs": [
    {
     "name": "stdout",
     "output_type": "stream",
     "text": [
      "Columns with string data types: Index(['Restaurant Name', 'Address', 'Locality', 'Locality Verbose',\n",
      "       'Cuisines', 'Rating color', 'Rating text'],\n",
      "      dtype='object')\n",
      "Remaining columns with string data types after processing: Index([], dtype='object')\n"
     ]
    }
   ],
   "source": [
    "# Columns with string data types\n",
    "string_columns = df.select_dtypes(include=['object']).columns\n",
    "print(\"Columns with string data types:\", string_columns)\n",
    "\n",
    "# Dropping columns that are not useful for prediction\n",
    "df.drop(['Restaurant Name', 'Address', 'Locality', 'Locality Verbose', 'Rating color', 'Rating text'], axis=1, inplace=True)\n",
    "\n",
    "# Encoding remaining categorical columns (if any)\n",
    "# Example: Encoding 'Cuisines' using LabelEncoder\n",
    "le = LabelEncoder()\n",
    "df['Cuisines'] = le.fit_transform(df['Cuisines'])\n",
    "\n",
    "# Verify no string columns remain\n",
    "string_columns_after = df.select_dtypes(include=['object']).columns\n",
    "print(\"Remaining columns with string data types after processing:\", string_columns_after)\n"
   ]
  },
  {
   "cell_type": "markdown",
   "id": "04380b25",
   "metadata": {},
   "source": [
    "# 3.3 Normalize/Scale Numerical Features"
   ]
  },
  {
   "cell_type": "code",
   "execution_count": 7,
   "id": "e6095fde",
   "metadata": {
    "scrolled": true
   },
   "outputs": [
    {
     "name": "stdout",
     "output_type": "stream",
     "text": [
      "   Restaurant ID  Longitude  Latitude  Cuisines  Average Cost for two  \\\n",
      "0        6317637   1.372269 -1.025581       920             -0.006154   \n",
      "1        6304287   1.371945 -1.026647      1111              0.000049   \n",
      "2        6300002   1.372975 -1.024131      1671              0.173743   \n",
      "3        6318506   1.372966 -1.023775      1126              0.018659   \n",
      "4        6314302   1.372991 -1.023854      1122              0.018659   \n",
      "\n",
      "   Currency  Has Table booking  Has Online delivery  Is delivering now  \\\n",
      "0         0                  1                    0                  0   \n",
      "1         0                  1                    0                  0   \n",
      "2         0                  1                    0                  0   \n",
      "3         0                  0                    0                  0   \n",
      "4         0                  1                    0                  0   \n",
      "\n",
      "   Switch to order menu  ...  Country Code_189  Country Code_191  \\\n",
      "0                     0  ...             False             False   \n",
      "1                     0  ...             False             False   \n",
      "2                     0  ...             False             False   \n",
      "3                     0  ...             False             False   \n",
      "4                     0  ...             False             False   \n",
      "\n",
      "   Country Code_208  Country Code_214  Country Code_215  Country Code_216  \\\n",
      "0             False             False             False             False   \n",
      "1             False             False             False             False   \n",
      "2             False             False             False             False   \n",
      "3             False             False             False             False   \n",
      "4             False             False             False             False   \n",
      "\n",
      "   Price range_1  Price range_2  Price range_3  Price range_4  \n",
      "0          False          False           True          False  \n",
      "1          False          False           True          False  \n",
      "2          False          False          False           True  \n",
      "3          False          False          False           True  \n",
      "4          False          False          False           True  \n",
      "\n",
      "[5 rows x 172 columns]\n"
     ]
    }
   ],
   "source": [
    "# Standardize numerical features\n",
    "from sklearn.preprocessing import StandardScaler\n",
    "scaler = StandardScaler()\n",
    "numerical_features = ['Longitude', 'Latitude', 'Average Cost for two', 'Votes']\n",
    "df[numerical_features] = scaler.fit_transform(df[numerical_features])\n",
    "\n",
    "print(df.head())  # Check the dataframe after scaling\n"
   ]
  },
  {
   "cell_type": "markdown",
   "id": "5942f2a6",
   "metadata": {},
   "source": [
    "# Step 4: Exploratory Data Analysis (EDA)\n",
    "# 4.1 Descriptive Statistics"
   ]
  },
  {
   "cell_type": "code",
   "execution_count": 8,
   "id": "2b3a2a53",
   "metadata": {},
   "outputs": [
    {
     "data": {
      "image/png": "[encoded data removed]",
      "text/plain": [
       "<Figure size 800x600 with 1 Axes>"
      ]
     },
     "metadata": {},
     "output_type": "display_data"
    },
    {
     "data": {
      "image/png": "[encoded data removed]",
      "text/plain": [
       "<Figure size 800x600 with 1 Axes>"
      ]
     },
     "metadata": {},
     "output_type": "display_data"
    }
   ],
   "source": [
    "# Distribution of target variable (Aggregate Rating)\n",
    "plt.figure(figsize=(8, 6))\n",
    "sns.histplot(df['Aggregate rating'], bins=20, kde=True)\n",
    "plt.title('Distribution of Aggregate Rating')\n",
    "plt.show()\n",
    "\n",
    "# Scatter plot of Votes vs Aggregate Rating\n",
    "plt.figure(figsize=(8, 6))\n",
    "sns.scatterplot(x='Votes', y='Aggregate rating', data=df)\n",
    "plt.title('Votes vs Aggregate Rating')\n",
    "plt.show()"
   ]
  },
  {
   "cell_type": "markdown",
   "id": "5ddc7d94",
   "metadata": {},
   "source": [
    "# Step 5: Feature Engineering (Optional)"
   ]
  },
  {
   "cell_type": "code",
   "execution_count": 9,
   "id": "7a764196",
   "metadata": {},
   "outputs": [],
   "source": [
    "# Example of creating interaction terms (if needed)\n",
    "df['Cost_vs_Rating'] = df['Average Cost for two'] * df['Aggregate rating']"
   ]
  },
  {
   "cell_type": "markdown",
   "id": "452c3aeb",
   "metadata": {},
   "source": [
    "# Step 6: Model Development\n",
    "# 6.1 Split the Data"
   ]
  },
  {
   "cell_type": "code",
   "execution_count": 10,
   "id": "2b567f5e",
   "metadata": {},
   "outputs": [],
   "source": [
    "# Split the data into features and target\n",
    "from sklearn.model_selection import train_test_split\n",
    "X = df.drop(['Aggregate rating', 'Restaurant ID'], axis=1)\n",
    "y = df['Aggregate rating']\n",
    "\n",
    "# Train-test split\n",
    "X_train, X_test, y_train, y_test = train_test_split(X, y, test_size=0.2,\n",
    "                                                    random_state=42)\n"
   ]
  },
  {
   "cell_type": "markdown",
   "id": "3d963af6",
   "metadata": {},
   "source": [
    "# 6.2 Train Models\n",
    "# Linear Regression"
   ]
  },
  {
   "cell_type": "code",
   "execution_count": 11,
   "id": "2ecd0e51",
   "metadata": {},
   "outputs": [
    {
     "name": "stdout",
     "output_type": "stream",
     "text": [
      "Linear Regression Performance:\n",
      "MAE: 808718.4898618085\n",
      "MSE: 122915790430328.48\n",
      "RMSE: 11086739.395797508\n",
      "R² Score: -54002594319357.83\n"
     ]
    }
   ],
   "source": [
    "# Train a Linear Regression model\n",
    "from sklearn.linear_model import LinearRegression\n",
    "from sklearn.metrics import mean_absolute_error, mean_squared_error, r2_score\n",
    "lr = LinearRegression()\n",
    "lr.fit(X_train, y_train)\n",
    "\n",
    "# Predictions\n",
    "y_pred_lr = lr.predict(X_test)\n",
    "\n",
    "# Evaluate the model\n",
    "print(\"Linear Regression Performance:\")\n",
    "print(f\"MAE: {mean_absolute_error(y_test, y_pred_lr)}\")\n",
    "print(f\"MSE: {mean_squared_error(y_test, y_pred_lr)}\")\n",
    "print(f\"RMSE: {np.sqrt(mean_squared_error(y_test, y_pred_lr))}\")\n",
    "print(f\"R² Score: {r2_score(y_test, y_pred_lr)}\")"
   ]
  },
  {
   "cell_type": "markdown",
   "id": "0785e6e8",
   "metadata": {},
   "source": [
    "# Random Forest Regressor"
   ]
  },
  {
   "cell_type": "code",
   "execution_count": 12,
   "id": "521cfe9b",
   "metadata": {},
   "outputs": [
    {
     "name": "stdout",
     "output_type": "stream",
     "text": [
      "Random Forest Performance:\n",
      "MAE: 0.07286289900575635\n",
      "MSE: 0.027840717425431694\n",
      "RMSE: 0.16685537877285136\n",
      "R² Score: 0.9877682845839266\n"
     ]
    }
   ],
   "source": [
    "# Train a Random Forest model\n",
    "from sklearn.ensemble import RandomForestRegressor\n",
    "from sklearn.model_selection import GridSearchCV\n",
    "rf = RandomForestRegressor(random_state=42)\n",
    "rf.fit(X_train, y_train)\n",
    "\n",
    "# Predictions\n",
    "y_pred_rf = rf.predict(X_test)\n",
    "\n",
    "# Evaluate the model\n",
    "print(\"Random Forest Performance:\")\n",
    "print(f\"MAE: {mean_absolute_error(y_test, y_pred_rf)}\")\n",
    "print(f\"MSE: {mean_squared_error(y_test, y_pred_rf)}\")\n",
    "print(f\"RMSE: {np.sqrt(mean_squared_error(y_test, y_pred_rf))}\")\n",
    "print(f\"R² Score: {r2_score(y_test, y_pred_rf)}\")\n"
   ]
  }
 ],
 "metadata": {
  "kernelspec": {
   "display_name": "Python 3 (ipykernel)",
   "language": "python",
   "name": "python3"
  },
  "language_info": {
   "codemirror_mode": {
    "name": "ipython",
    "version": 3
   },
   "file_extension": ".py",
   "mimetype": "text/x-python",
   "name": "python",
   "nbconvert_exporter": "python",
   "pygments_lexer": "ipython3",
   "version": "3.11.7"
  }
 },
 "nbformat": 4,
 "nbformat_minor": 5
}
